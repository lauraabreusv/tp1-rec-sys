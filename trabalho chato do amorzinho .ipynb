{
 "cells": [
  {
   "cell_type": "code",
   "execution_count": 3,
   "id": "87ad190d",
   "metadata": {},
   "outputs": [
    {
     "name": "stderr",
     "output_type": "stream",
     "text": [
      "/home/easiedata/Desktop/ufmg/tp1recsys/venv/lib/python3.6/site-packages/ipykernel_launcher.py:3: ParserWarning: Falling back to the 'python' engine because the 'c' engine does not support regex separators (separators > 1 char and different from '\\s+' are interpreted as regex); you can avoid this warning by specifying engine='python'.\n",
      "  This is separate from the ipykernel package so we can avoid doing imports until\n"
     ]
    },
    {
     "data": {
      "text/html": [
       "<div>\n",
       "<style scoped>\n",
       "    .dataframe tbody tr th:only-of-type {\n",
       "        vertical-align: middle;\n",
       "    }\n",
       "\n",
       "    .dataframe tbody tr th {\n",
       "        vertical-align: top;\n",
       "    }\n",
       "\n",
       "    .dataframe thead th {\n",
       "        text-align: right;\n",
       "    }\n",
       "</style>\n",
       "<table border=\"1\" class=\"dataframe\">\n",
       "  <thead>\n",
       "    <tr style=\"text-align: right;\">\n",
       "      <th></th>\n",
       "      <th>UserId</th>\n",
       "      <th>ItemId</th>\n",
       "      <th>Prediction</th>\n",
       "      <th>Timestamp</th>\n",
       "    </tr>\n",
       "  </thead>\n",
       "  <tbody>\n",
       "    <tr>\n",
       "      <th>0</th>\n",
       "      <td>u0026762</td>\n",
       "      <td>i2171847</td>\n",
       "      <td>6</td>\n",
       "      <td>1362062307</td>\n",
       "    </tr>\n",
       "    <tr>\n",
       "      <th>1</th>\n",
       "      <td>u0026502</td>\n",
       "      <td>i0444778</td>\n",
       "      <td>8</td>\n",
       "      <td>1362062624</td>\n",
       "    </tr>\n",
       "    <tr>\n",
       "      <th>2</th>\n",
       "      <td>u0004598</td>\n",
       "      <td>i1411238</td>\n",
       "      <td>6</td>\n",
       "      <td>1362062838</td>\n",
       "    </tr>\n",
       "    <tr>\n",
       "      <th>3</th>\n",
       "      <td>u0031317</td>\n",
       "      <td>i1496422</td>\n",
       "      <td>7</td>\n",
       "      <td>1362063503</td>\n",
       "    </tr>\n",
       "    <tr>\n",
       "      <th>4</th>\n",
       "      <td>u0024257</td>\n",
       "      <td>i0118799</td>\n",
       "      <td>5</td>\n",
       "      <td>1362063653</td>\n",
       "    </tr>\n",
       "  </tbody>\n",
       "</table>\n",
       "</div>"
      ],
      "text/plain": [
       "     UserId    ItemId  Prediction   Timestamp\n",
       "0  u0026762  i2171847           6  1362062307\n",
       "1  u0026502  i0444778           8  1362062624\n",
       "2  u0004598  i1411238           6  1362062838\n",
       "3  u0031317  i1496422           7  1362063503\n",
       "4  u0024257  i0118799           5  1362063653"
      ]
     },
     "execution_count": 3,
     "metadata": {},
     "output_type": "execute_result"
    }
   ],
   "source": [
    "import pandas as pd\n",
    "\n",
    "train_df = pd.read_csv('ratings.csv', sep='[:,]')\n",
    "train_df.head()"
   ]
  },
  {
   "cell_type": "code",
   "execution_count": 4,
   "id": "12fb44ac",
   "metadata": {},
   "outputs": [
    {
     "data": {
      "text/html": [
       "<div>\n",
       "<style scoped>\n",
       "    .dataframe tbody tr th:only-of-type {\n",
       "        vertical-align: middle;\n",
       "    }\n",
       "\n",
       "    .dataframe tbody tr th {\n",
       "        vertical-align: top;\n",
       "    }\n",
       "\n",
       "    .dataframe thead th {\n",
       "        text-align: right;\n",
       "    }\n",
       "</style>\n",
       "<table border=\"1\" class=\"dataframe\">\n",
       "  <thead>\n",
       "    <tr style=\"text-align: right;\">\n",
       "      <th></th>\n",
       "      <th>UserId</th>\n",
       "      <th>ItemId</th>\n",
       "    </tr>\n",
       "  </thead>\n",
       "  <tbody>\n",
       "    <tr>\n",
       "      <th>0</th>\n",
       "      <td>u0000039</td>\n",
       "      <td>i0060196</td>\n",
       "    </tr>\n",
       "    <tr>\n",
       "      <th>1</th>\n",
       "      <td>u0000039</td>\n",
       "      <td>i0099077</td>\n",
       "    </tr>\n",
       "    <tr>\n",
       "      <th>2</th>\n",
       "      <td>u0000039</td>\n",
       "      <td>i0102926</td>\n",
       "    </tr>\n",
       "    <tr>\n",
       "      <th>3</th>\n",
       "      <td>u0000039</td>\n",
       "      <td>i0109830</td>\n",
       "    </tr>\n",
       "    <tr>\n",
       "      <th>4</th>\n",
       "      <td>u0000039</td>\n",
       "      <td>i0113277</td>\n",
       "    </tr>\n",
       "  </tbody>\n",
       "</table>\n",
       "</div>"
      ],
      "text/plain": [
       "     UserId    ItemId\n",
       "0  u0000039  i0060196\n",
       "1  u0000039  i0099077\n",
       "2  u0000039  i0102926\n",
       "3  u0000039  i0109830\n",
       "4  u0000039  i0113277"
      ]
     },
     "execution_count": 4,
     "metadata": {},
     "output_type": "execute_result"
    }
   ],
   "source": [
    "test_df = pd.read_csv('targets.csv', sep=':')\n",
    "test_df.head()"
   ]
  },
  {
   "cell_type": "code",
   "execution_count": 7,
   "id": "2a6ee4a9",
   "metadata": {},
   "outputs": [
    {
     "data": {
      "text/plain": [
       "UserId\n",
       "u0000001    10.000000\n",
       "u0000002     7.933333\n",
       "u0000003     7.000000\n",
       "u0000004     3.000000\n",
       "u0000005     6.000000\n",
       "              ...    \n",
       "u0038725    10.000000\n",
       "u0038726    10.000000\n",
       "u0038727     6.375000\n",
       "u0038728     8.000000\n",
       "u0038729     2.000000\n",
       "Name: Prediction, Length: 34105, dtype: float64"
      ]
     },
     "execution_count": 7,
     "metadata": {},
     "output_type": "execute_result"
    }
   ],
   "source": [
    "#1 step: normalization of ratings (mean: train_df)\n",
    "#pra cada usuario pegar as medias-> isto é -> group_by userid e pegar o mean\n",
    "\n",
    "train_df.groupby('UserId')['Prediction'].mean()"
   ]
  },
  {
   "cell_type": "code",
   "execution_count": 10,
   "id": "0e2ebaad",
   "metadata": {},
   "outputs": [],
   "source": [
    "#vou fazer basico e idiota aqui primeiro e dps eu tento otimizar se for o caso\n",
    "#nao sei se isso é rapido, senao tentar um itertuples dps -> ou iterrows, ou algum outro, ver o mais eficiente\n",
    "user_means = {c:v for c,v in train_df.groupby('UserId')['Prediction'].mean().items()}"
   ]
  },
  {
   "cell_type": "code",
   "execution_count": 15,
   "id": "3c9621eb",
   "metadata": {},
   "outputs": [
    {
     "name": "stdout",
     "output_type": "stream",
     "text": [
      "Pandas(Index=0, UserId='u0026762', ItemId='i2171847', Prediction=6, Timestamp=1362062307)\n",
      "u0026762\n",
      "Pandas(Index=1, UserId='u0026502', ItemId='i0444778', Prediction=8, Timestamp=1362062624)\n",
      "u0026502\n",
      "Pandas(Index=2, UserId='u0004598', ItemId='i1411238', Prediction=6, Timestamp=1362062838)\n",
      "u0004598\n",
      "Pandas(Index=3, UserId='u0031317', ItemId='i1496422', Prediction=7, Timestamp=1362063503)\n",
      "u0031317\n",
      "Pandas(Index=4, UserId='u0024257', ItemId='i0118799', Prediction=5, Timestamp=1362063653)\n",
      "u0024257\n"
     ]
    }
   ],
   "source": [
    "#amanha pensar: como fazer eficientemente a estrutura de dicts (criar as chaves)\n",
    "def create_utility_matrix(df, user_means):\n",
    "    utility_matrix = {}\n",
    "    for row in df.itertuples():\n",
    "        user_matrix = utility_matrix.get(row.UserId, {})\n",
    "        user_matrix[row.ItemId] = row.Prediction\n",
    "        utility_matriz[row.UserId] = user_matrix\n",
    "        \n",
    "        #ver se precisa fazer assim pq sepa so metendo a chave ali ja funciona\n",
    "        \n",
    "create_utility_matrix(train_df.head(), user_means)"
   ]
  }
 ],
 "metadata": {
  "kernelspec": {
   "display_name": "Python 3",
   "language": "python",
   "name": "python3"
  },
  "language_info": {
   "codemirror_mode": {
    "name": "ipython",
    "version": 3
   },
   "file_extension": ".py",
   "mimetype": "text/x-python",
   "name": "python",
   "nbconvert_exporter": "python",
   "pygments_lexer": "ipython3",
   "version": "3.6.9"
  }
 },
 "nbformat": 4,
 "nbformat_minor": 5
}
